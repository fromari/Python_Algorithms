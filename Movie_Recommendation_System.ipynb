{
 "cells": [
  {
   "cell_type": "markdown",
   "id": "e6085a9a",
   "metadata": {},
   "source": [
    "# Movie Recommendation System\n",
    "\n",
    "\n",
    "You are tasked with developing a movie recommendation system. You are given a list of movies (their names) and a list of similarities between movies (pairs of movies that are similar). You are also given a list of user's friends and for each friend a list of movies that he has already seen.\n",
    "\n",
    "Your system should recommend one movie with the highest discussability and uniqueness. Discussability is the number of friends of user, who have already seen that movie. Uniqueness is 1 divided by the mean number of similar movies that the user's friends have already seen. So you should return the film with the highest number: F / S, where F = number of friends who have seen this movie, and S = mean of the number of similar movies seen for each friend. Exclude the movies with S = 0.\n",
    "\n",
    "If (a, b) and (b, c) are pairs of similar movies, then (a, c) is a pair of similar movies too. Each movie is not counted in its Uniqueness."
   ]
  },
  {
   "cell_type": "code",
   "execution_count": null,
   "id": "6118e790",
   "metadata": {},
   "outputs": [],
   "source": [
    "def film_recommendation(movies, similarities, friends):\n",
    "\n",
    "    merged_friends = [j for i in friends for j in i]\n",
    "\n",
    "    # Using DFS to create a graph with similar movies (components)\n",
    "    taken = [False] * len(similarities)\n",
    "    similarities = [set(elem) for elem in similarities]\n",
    "\n",
    "    def dfs(node, index):\n",
    "        taken[index] = True\n",
    "        comp = node\n",
    "        for i, item in enumerate(similarities):\n",
    "            if not taken[i] and not comp.isdisjoint(item):\n",
    "                comp.update(dfs(item, i))\n",
    "\n",
    "        # Adding discussability index F to movies in components\n",
    "        comp = list(comp)\n",
    "        components_w_discuss = {}\n",
    "        for i in comp:\n",
    "            components_w_discuss[i] = merged_friends.count(i)\n",
    "\n",
    "        return components_w_discuss\n",
    "\n",
    "    graph = []\n",
    "    for i, node in enumerate(similarities):\n",
    "        if not taken[i]:\n",
    "            graph.append(dfs(node, i))\n",
    "    \n",
    "    # Creating a dictionary to find F / S.\n",
    "    FS_dict = {}\n",
    "    for sublist in graph:\n",
    "        for key, value in sublist.items():\n",
    "            try:\n",
    "                FS_dict[key] = sublist.get(key) / (\n",
    "                    (sum(sublist.values()) - sublist.get(key))\n",
    "                    / (len(sublist) - 1)\n",
    "                )\n",
    "            except ZeroDivisionError:\n",
    "                FS_dict[key] = float(0)\n",
    "\n",
    "    if FS_dict != {}:\n",
    "        recommend = max(FS_dict, key=FS_dict.get)\n",
    "    else:\n",
    "        recommend = \"N/A\"\n",
    "\n",
    "    return recommend"
   ]
  }
 ],
 "metadata": {
  "kernelspec": {
   "display_name": "Python 3 (ipykernel)",
   "language": "python",
   "name": "python3"
  },
  "language_info": {
   "codemirror_mode": {
    "name": "ipython",
    "version": 3
   },
   "file_extension": ".py",
   "mimetype": "text/x-python",
   "name": "python",
   "nbconvert_exporter": "python",
   "pygments_lexer": "ipython3",
   "version": "3.8.5"
  }
 },
 "nbformat": 4,
 "nbformat_minor": 5
}
